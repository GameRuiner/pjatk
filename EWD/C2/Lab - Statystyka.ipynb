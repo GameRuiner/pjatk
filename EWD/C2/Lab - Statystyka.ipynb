{
 "cells": [
  {
   "cell_type": "markdown",
   "id": "26c28b37",
   "metadata": {},
   "source": [
    "# Statystyka \n",
    "\n",
    "### Zadanie 1\n",
    "\n",
    "- Średnia z próby:\n",
    "\n",
    "$$\\bar{x} = \\frac{1}{n} \\sum_{i=1}^n x_i$$\n",
    "\n",
    "- Wariancja z próby:\n",
    "\n",
    "$$s^2 = \\frac{1}{n-1} \\sum_{i=1}^n (x_i - \\bar{x})^2$$\n",
    "\n",
    "- Odchylenie standardowe:\n",
    "\n",
    "$$ s = \\sqrt{s^2}$$\n",
    "- Kowariancja:\n",
    "$$\\mathrm{Cov}(x, y) = \\frac{1}{n-1} \\sum_{i=1}^n(x_i - \\bar{x})(y_i - \\bar{y})$$\n",
    "- Współczynnik korelacji:\n",
    "$$ r_{x,y} = \\frac{\\mathrm{Cov}(x, y)}{s_x s_y}$$\n",
    "\n",
    "Dane są próby: $x = \\{2, 4, 6, 4, 1, 1\\}$, $y = \\{6, 7, 5, 5, 4, 3\\}$. Oblicz:\n",
    "- wartości średnie $\\bar{x}$, $\\bar{y}$,\n",
    "- wariancje i odchylenia standardowe prób,\n",
    "- mediany prób,\n",
    "- korelację $r_{x, y}$.\n",
    "\n",
    "### Zadanie 2\n",
    "Wariancja zmiennej losowej $X$ to $\\mathrm{Var}(X) = \\mathrm{E}[(X - \\mathrm{E}(X))^2] $. Wykaż, że $\\mathrm{Var}(X) = \\mathrm{E}(X^2) - \\mathrm{E}^2(X)$.\n",
    "\n",
    "### Zadanie 3\n",
    "Wartość oczekiwana (średnia) zmiennej losowej dyskretnej to: $\\mathrm{E}(X) = \\sum_x x \\cdot p(x)$, wariancja to: $\\mathrm{Var}(X) = \\sum_x (x - \\mathrm{E}(X))^2 p(x)$.\n",
    "\n",
    "\n",
    "1. Zmienna losowa o rozkładzie dwupunktowym (Bernoulliego) przyjmuje wartość $1$ z prawdopodobieństwem $p$ lub $0$ z prawdopodobieństwem $q=1 - p$. Jaka jest wartość oczekiwana i wariancja dla rozkładu dwupunktowego?\n",
    "2. Rozkład dwumianowy to rozkład liczby \"sukcesów\" w $n$ niezależnych próbach Bernoulliego (mogących zakończyć się \"sukcesem\" ($1$) lub \"porażką\" ($0$)). Jaka jest wartość oczekiwana i wariancja rozkładu dwumianowego?\n"
   ]
  }
 ],
 "metadata": {
  "kernelspec": {
   "display_name": "Python 3 (ipykernel)",
   "language": "python",
   "name": "python3"
  },
  "language_info": {
   "codemirror_mode": {
    "name": "ipython",
    "version": 3
   },
   "file_extension": ".py",
   "mimetype": "text/x-python",
   "name": "python",
   "nbconvert_exporter": "python",
   "pygments_lexer": "ipython3",
   "version": "3.10.9"
  }
 },
 "nbformat": 4,
 "nbformat_minor": 5
}
