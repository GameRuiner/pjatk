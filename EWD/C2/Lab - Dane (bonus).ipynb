{
 "cells": [
  {
   "cell_type": "markdown",
   "id": "c6818417-5e0e-4bab-828f-a4a1246c9c80",
   "metadata": {},
   "source": [
    "# Lab - Dane (zadania dodatkowe)\n",
    "## Przykład - Wikipedia Pageview API\n",
    "Dokumentacja/przykłady użycia Wikipedia Pageview API podane są [tutaj](https://wikitech.wikimedia.org/wiki/Analytics/AQS/Pageviews).\n",
    "Zasady korzystania z API wymagają podania jako `User-Agent` np. swojego adresu e-mail.\n",
    "\n",
    "W następujący sposób można pobrać dzienną liczbę wyświetleń artykułu \"Albert Einstein\" w 2022 roku:"
   ]
  },
  {
   "cell_type": "code",
   "execution_count": null,
   "id": "addd383d-1a48-480c-a879-2e1d70aa0181",
   "metadata": {},
   "outputs": [],
   "source": [
    "import requests\n",
    "import pandas as pd\n",
    "\n",
    "HEADERS = {\"User-Agent\": \"shorawa@pja.edu.pl\"}\n",
    "\n",
    "def wiki_article_views_daily(article, start_date, end_date):\n",
    "    url_base = \"https://wikimedia.org/api/rest_v1/metrics/pageviews/per-article/en.wikipedia/all-access/user/\"\n",
    "    url = url_base + f\"{article}/daily/{start_date}/{end_date}\"\n",
    "        \n",
    "    r = requests.get(url, headers=HEADERS)\n",
    "    \n",
    "    return r\n",
    "\n",
    "article = \"Albert_Einstein\"\n",
    "start_date=\"2022010100\"\n",
    "end_date=\"2022123100\"\n",
    "r = wiki_article_views_daily(article, start_date, end_date)\n",
    "\n",
    "print(r.status_code)\n",
    "print(r.url)"
   ]
  },
  {
   "cell_type": "code",
   "execution_count": null,
   "id": "8eb5f419-cced-40ae-9270-4a6126335d01",
   "metadata": {},
   "outputs": [],
   "source": [
    "df = pd.DataFrame(r.json()['items'])\n",
    "df.head()"
   ]
  },
  {
   "cell_type": "code",
   "execution_count": null,
   "id": "f3dbcab4-4a0f-4803-b117-c0317907e778",
   "metadata": {},
   "outputs": [],
   "source": [
    "df['date'] = pd.to_datetime(df.timestamp, format='%Y%m%d00')\n",
    "df = df[['date', 'article', 'views']].set_index('date')\n",
    "df.head()"
   ]
  },
  {
   "cell_type": "code",
   "execution_count": null,
   "id": "b4d97157-3971-4065-949a-dec8bd84c347",
   "metadata": {},
   "outputs": [],
   "source": [
    "import matplotlib.pyplot as plt\n",
    "plt.plot(df.index, df.views)\n",
    "plt.title('\"Albert Einstein\" Wikipedia Article Views - 2022')\n",
    "plt.xlabel('Date')\n",
    "plt.ylabel('Views')"
   ]
  },
  {
   "cell_type": "markdown",
   "id": "baf2000e-6967-4ff6-948e-1e3abc0d5a69",
   "metadata": {},
   "source": [
    "### Parametry URL\n",
    "Możemy dodać parametry do URL podając `params` w metodzie `requests.get()`:"
   ]
  },
  {
   "cell_type": "code",
   "execution_count": null,
   "id": "aec4a292-97d4-40a5-ad82-6848a1bcd22c",
   "metadata": {},
   "outputs": [],
   "source": [
    "params = {'key1': 'val1', 'key2': 22}\n",
    "r = requests.get(\"http://example.com/example\", params=params)\n",
    "print(r.url)"
   ]
  },
  {
   "cell_type": "markdown",
   "id": "b43ea146-8431-43e5-b07f-a5141e449819",
   "metadata": {},
   "source": [
    "## Zadania\n",
    "\n",
    "1. Strona https://open-meteo.com udostępnia API pozwalające pobierać historyczne dane pogodowe. Znajdź na stronie dokumentację API, a następnie:\n",
    "    - Stwórz procedurę, która otrzyma współrzędne geograficzne (latitude, longitude) i zakres dat, a następnie pobierze dane pogodowe z API.\n",
    "    - Umieść pobrane dane w `DataFrame`. Upewnij się, że wszystkie kolumny mają odpowiednie nazwy i typ danych. Ustaw daty jako indeks.\n",
    "    - Opcjonalnie: wykorzystaj Geocoding API (np. https://nominatim.org/ udostępniany przez OpenStreetMap), aby automatycznie pobrać współrzędne geograficzne dla podanej lokalizacji. \n",
    "2. Wikipedia Pageview API pozwala pobrać listę najczęściej wyświetlanych artykułów. Sprawdź w dokumentacji jak to zrobić, a następnie:\n",
    "    - Znajdź 10 najczęściej wyświetlanych artykułów z `en.wikipedia.org` w styczniu 2022. Uwaga: na liście znajdą się też strony specjalne, np. `Main_Page`. Należy je manualnie odfiltrować.\n",
    "    - Następnie dla każdego z nich pobierz liczbę wyświetleń dla każdego dnia w 2022. Umieść wszystkie dane w `DataFrame`."
   ]
  }
 ],
 "metadata": {
  "kernelspec": {
   "display_name": "Python 3 (ipykernel)",
   "language": "python",
   "name": "python3"
  },
  "language_info": {
   "codemirror_mode": {
    "name": "ipython",
    "version": 3
   },
   "file_extension": ".py",
   "mimetype": "text/x-python",
   "name": "python",
   "nbconvert_exporter": "python",
   "pygments_lexer": "ipython3",
   "version": "3.10.9"
  }
 },
 "nbformat": 4,
 "nbformat_minor": 5
}
