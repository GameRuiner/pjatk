{
 "cells": [
  {
   "cell_type": "markdown",
   "id": "48c7da7b-486c-4c92-aaec-acd1048bcd45",
   "metadata": {},
   "source": [
    "# Python\n",
    "### Hello, world!"
   ]
  },
  {
   "cell_type": "code",
   "execution_count": null,
   "id": "ca5e53d4-f91a-4c70-8753-bc494c30e403",
   "metadata": {},
   "outputs": [],
   "source": [
    "print(\"Hello, world!\")"
   ]
  },
  {
   "cell_type": "markdown",
   "id": "dd572dbf-7376-4d8a-b8b8-7734b3c19d3d",
   "metadata": {},
   "source": [
    "### Zmienne"
   ]
  },
  {
   "cell_type": "code",
   "execution_count": null,
   "id": "9bd0aae3-ce6f-4fe0-b216-4ee09574543f",
   "metadata": {},
   "outputs": [],
   "source": [
    "x = 5 # typ: int\n",
    "y = 10.5 # typ: float\n",
    "z = \"Hello\" # typ: str\n",
    "print(x + y)\n",
    "print(z)"
   ]
  },
  {
   "cell_type": "code",
   "execution_count": null,
   "id": "7f2a9f96-2abc-433a-939b-98b9309182e0",
   "metadata": {},
   "outputs": [],
   "source": [
    "print(str(x), int(y))"
   ]
  },
  {
   "cell_type": "markdown",
   "id": "6baedcbf-7c94-4c52-a2b5-593f0e3895d3",
   "metadata": {},
   "source": [
    "### Operatory"
   ]
  },
  {
   "cell_type": "code",
   "execution_count": null,
   "id": "45eb943e-4bd9-4a02-a520-f0e4cbf99df2",
   "metadata": {},
   "outputs": [],
   "source": [
    "print(\"x + 1 =\", x + 1)\n",
    "print(\"x - y =\", x - y)\n",
    "print(\"z + str(x) =\", z + str(x))\n",
    "print(\"x * y =\", x * y)\n",
    "print(\"x / 2 =\", x / 2)\n",
    "print(\"x // 2 =\", x // 2)\n",
    "print(\"x**2 =\", x**2)\n",
    "print(\"x % 2 =\", x % 2)"
   ]
  },
  {
   "cell_type": "markdown",
   "id": "0a0fdc65-2635-44bc-87ca-978e798278cb",
   "metadata": {},
   "source": [
    "### `if ... else` "
   ]
  },
  {
   "cell_type": "code",
   "execution_count": null,
   "id": "38fe3c9c-c2f1-4e5f-bebb-c6124b6b604e",
   "metadata": {},
   "outputs": [],
   "source": [
    "score = 35\n",
    "\n",
    "if score < 30:\n",
    "    print(\"Low\")\n",
    "elif score < 50:\n",
    "    print(\"Medium\")\n",
    "else:\n",
    "    print(\"High\")"
   ]
  },
  {
   "cell_type": "markdown",
   "id": "4844da21-3166-4301-8967-1920b99ad059",
   "metadata": {},
   "source": [
    "### Operatory logiczne"
   ]
  },
  {
   "cell_type": "code",
   "execution_count": null,
   "id": "7be6ba93-6f4f-4b77-a0a0-cf3130f32229",
   "metadata": {},
   "outputs": [],
   "source": [
    "x = 20\n",
    "y = 50\n",
    "\n",
    "print(x < y and y < 20)\n",
    "print(x < y or y < 20)\n",
    "print(not (x < y))\n",
    "\n",
    "score1 = 100\n",
    "score2 = 20\n",
    "\n",
    "if score1 < 50 and score2 < 30:\n",
    "    print(\"Low\")\n",
    "elif score1 >= 50 or score2 >= 40:\n",
    "    print(\"High\")"
   ]
  },
  {
   "cell_type": "markdown",
   "id": "f44a6356-2ed0-409d-ad07-1d1b97f2fb5d",
   "metadata": {},
   "source": [
    "### Listy"
   ]
  },
  {
   "cell_type": "code",
   "execution_count": null,
   "id": "5571cf08-3f34-4f97-9551-016b219d0b8c",
   "metadata": {},
   "outputs": [],
   "source": [
    "my_list = [1, 1, 2, \"Hello\"]\n",
    "print(my_list)\n",
    "print(my_list[2])\n",
    "print(my_list[2:4])\n",
    "my_list.append(6)\n",
    "print(my_list)"
   ]
  },
  {
   "cell_type": "markdown",
   "id": "36d484e0-e092-44c7-8388-118ed5ba7727",
   "metadata": {},
   "source": [
    "### Iteracja"
   ]
  },
  {
   "cell_type": "code",
   "execution_count": null,
   "id": "91aaafd7-e322-4ec6-8ece-333b2d465aea",
   "metadata": {},
   "outputs": [],
   "source": [
    "for el in my_list:\n",
    "    print(el)"
   ]
  },
  {
   "cell_type": "code",
   "execution_count": null,
   "id": "06bef98e-3e9d-4e18-b9d2-fcb5593b7cbc",
   "metadata": {},
   "outputs": [],
   "source": [
    "for i in range(5):\n",
    "    print(i)"
   ]
  },
  {
   "cell_type": "code",
   "execution_count": null,
   "id": "b647a22a-4933-48ac-81d8-20c4e88f241a",
   "metadata": {},
   "outputs": [],
   "source": [
    "for i in range(len(my_list)):\n",
    "    print(i, my_list[i])"
   ]
  },
  {
   "cell_type": "code",
   "execution_count": null,
   "id": "9dca339d-b002-4655-9e13-caa459171788",
   "metadata": {},
   "outputs": [],
   "source": [
    "i = 0\n",
    "while i < len(my_list):\n",
    "    print(i, my_list[i])\n",
    "    i += 1"
   ]
  },
  {
   "cell_type": "markdown",
   "id": "b184c93b-9999-40ac-bc7e-cda32475aaee",
   "metadata": {},
   "source": [
    "### Funkcje"
   ]
  },
  {
   "cell_type": "code",
   "execution_count": null,
   "id": "e77a8632-9289-400c-adcc-f09b21cc2549",
   "metadata": {},
   "outputs": [],
   "source": [
    "def add_3(x):\n",
    "    return x + 3\n",
    "print(add_3(12))"
   ]
  },
  {
   "cell_type": "code",
   "execution_count": null,
   "id": "8fea70c4-8cb1-4e08-a2c2-76dd78d0cc0b",
   "metadata": {},
   "outputs": [],
   "source": [
    "def add_y(x, y=3):\n",
    "    return x + y\n",
    "print(add_y(22))\n",
    "print(add_y(22, 1))"
   ]
  },
  {
   "cell_type": "markdown",
   "id": "06cedba3-6f6d-498d-8868-80c7d7daed1c",
   "metadata": {},
   "source": [
    "### Moduły\n",
    "Importujemy przez `import`."
   ]
  },
  {
   "cell_type": "code",
   "execution_count": null,
   "id": "56110ab8-204d-4335-894e-5ad8389d9650",
   "metadata": {},
   "outputs": [],
   "source": [
    "import numpy\n",
    "numpy.random.rand(5)"
   ]
  },
  {
   "cell_type": "code",
   "execution_count": null,
   "id": "f3ccb6a5-bac2-419e-adf1-ce1f02c6eda1",
   "metadata": {},
   "outputs": [],
   "source": [
    "import numpy as np\n",
    "np.random.rand(5)"
   ]
  },
  {
   "cell_type": "code",
   "execution_count": null,
   "id": "45e330fa-e672-4e40-923a-fc6c3135f480",
   "metadata": {},
   "outputs": [],
   "source": [
    "from numpy import random\n",
    "random.rand(5)"
   ]
  },
  {
   "cell_type": "markdown",
   "id": "1be3a554-7c63-4dea-9c20-601f70526fe2",
   "metadata": {},
   "source": [
    "### Zadania\n",
    "1. Stwórz funkcję `fizz_buzz()`, która wypisze liczby od 1 do 100, ale:\n",
    "    - kiedy dana liczba jest podzielna przez 3, wypisze zamiast niej `Fizz`,\n",
    "    - kiedy dana liczba jest podzielna przez 5, wypisze `Buzz`,\n",
    "    - kiedy dana liczba jest podzielna przez 3 i 5, wypisze `FizzBuzz`.\n",
    "2. Stwórz funkcję, która otrzyma listę `numbers` oraz liczbę `x`, a następnie do każdego elementu z `numbers` listy doda `x` i zwróci wynik.\n",
    "3. Stwórz funkcję, która otrzyma listę i do każdego elementu doda jego indeks. Wykorzystaj metodę [`enumerate()`](https://docs.python.org/3/library/functions.html#enumerate).\n",
    "3. Stwórz funkcję, która otrzyma dwie listy o identycznej długości i stworzy nową listę zawierającą sumy par elementów. Wykorzystaj metodę [`zip()`](https://docs.python.org/3/library/functions.html#zip).\n",
    "4. Stwórz funkcję, która otrzyma ścieżkę do pliku, a następnie:\n",
    "    - wczyta z niego tekst (zob. [`open()`](https://docs.python.org/3/tutorial/inputoutput.html#tut-files)),\n",
    "    - sprawdzi, czy plik zawiera znaki TAB (`\\t`) (zob. [`find()`, `in`](https://docs.python.org/3/library/stdtypes.html#str.find)),\n",
    "    - zamieni wszystkie znaki TAB na przecinki (`,`) (zob. [`replace()`](https://docs.python.org/3/library/stdtypes.html#str.replace)),\n",
    "    - zapisze wynik w nowym pliku."
   ]
  }
 ],
 "metadata": {
  "kernelspec": {
   "display_name": "Python 3 (ipykernel)",
   "language": "python",
   "name": "python3"
  },
  "language_info": {
   "codemirror_mode": {
    "name": "ipython",
    "version": 3
   },
   "file_extension": ".py",
   "mimetype": "text/x-python",
   "name": "python",
   "nbconvert_exporter": "python",
   "pygments_lexer": "ipython3",
   "version": "3.9.16"
  }
 },
 "nbformat": 4,
 "nbformat_minor": 5
}
